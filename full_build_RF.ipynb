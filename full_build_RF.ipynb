{
 "cells": [
  {
   "cell_type": "markdown",
   "metadata": {},
   "source": [
    "This notebook contains all the pieces necessary to train and run a predictor - in this case a random forest classifier\n",
    "\n",
    "I've tried to split it into logical pieces\n",
    "\n",
    "### Prep environment ###\n",
    "\n",
    "Because I built this ahead of time, I know what all my imports are. If I was building this from scratch, I would do broad imports (`import pandas as pd`, for instance)"
   ]
  },
  {
   "cell_type": "code",
   "execution_count": 2,
   "metadata": {
    "collapsed": false
   },
   "outputs": [],
   "source": [
    "import seaborn as sns\n",
    "import matplotlib.pyplot as plt\n",
    "%matplotlib inline\n",
    "\n",
    "from pandas import DataFrame, Series, read_csv, set_option\n",
    "from numpy import array, sqrt\n",
    "from random import seed, shuffle\n",
    "\n",
    "from sklearn.model_selection import StratifiedKFold\n",
    "from sklearn.ensemble import RandomForestClassifier\n",
    "\n",
    "\n",
    "# Want reproducible results\n",
    "seed(0)\n",
    "\n",
    "# Force the console output to be wider - impacts the width of print statements\n",
    "set_option('display.width', 180)"
   ]
  },
  {
   "cell_type": "markdown",
   "metadata": {},
   "source": [
    "### Explore raw data ###\n",
    "\n",
    "Before we can know which features we want to clean, scale, etc, we need to take a look at what the raw data contains. Pandas DataFrame objects are great for this - they preserve the structure of the data and provide a lot of quick and easy tools for exploration"
   ]
  },
  {
   "cell_type": "code",
   "execution_count": 3,
   "metadata": {
    "collapsed": false
   },
   "outputs": [
    {
     "data": {
      "text/html": [
       "<div>\n",
       "<table border=\"1\" class=\"dataframe\">\n",
       "  <thead>\n",
       "    <tr style=\"text-align: right;\">\n",
       "      <th></th>\n",
       "      <th>satisfaction_level</th>\n",
       "      <th>last_evaluation</th>\n",
       "      <th>number_project</th>\n",
       "      <th>average_montly_hours</th>\n",
       "      <th>time_spend_company</th>\n",
       "      <th>Work_accident</th>\n",
       "      <th>left</th>\n",
       "      <th>promotion_last_5years</th>\n",
       "      <th>sales</th>\n",
       "      <th>salary</th>\n",
       "    </tr>\n",
       "  </thead>\n",
       "  <tbody>\n",
       "    <tr>\n",
       "      <th>0</th>\n",
       "      <td>0.38</td>\n",
       "      <td>0.53</td>\n",
       "      <td>2</td>\n",
       "      <td>157</td>\n",
       "      <td>3</td>\n",
       "      <td>0</td>\n",
       "      <td>1</td>\n",
       "      <td>0</td>\n",
       "      <td>sales</td>\n",
       "      <td>low</td>\n",
       "    </tr>\n",
       "    <tr>\n",
       "      <th>1</th>\n",
       "      <td>0.80</td>\n",
       "      <td>0.86</td>\n",
       "      <td>5</td>\n",
       "      <td>262</td>\n",
       "      <td>6</td>\n",
       "      <td>0</td>\n",
       "      <td>1</td>\n",
       "      <td>0</td>\n",
       "      <td>sales</td>\n",
       "      <td>medium</td>\n",
       "    </tr>\n",
       "    <tr>\n",
       "      <th>2</th>\n",
       "      <td>0.11</td>\n",
       "      <td>0.88</td>\n",
       "      <td>7</td>\n",
       "      <td>272</td>\n",
       "      <td>4</td>\n",
       "      <td>0</td>\n",
       "      <td>1</td>\n",
       "      <td>0</td>\n",
       "      <td>sales</td>\n",
       "      <td>medium</td>\n",
       "    </tr>\n",
       "    <tr>\n",
       "      <th>3</th>\n",
       "      <td>0.72</td>\n",
       "      <td>0.87</td>\n",
       "      <td>5</td>\n",
       "      <td>223</td>\n",
       "      <td>5</td>\n",
       "      <td>0</td>\n",
       "      <td>1</td>\n",
       "      <td>0</td>\n",
       "      <td>sales</td>\n",
       "      <td>low</td>\n",
       "    </tr>\n",
       "    <tr>\n",
       "      <th>4</th>\n",
       "      <td>0.37</td>\n",
       "      <td>0.52</td>\n",
       "      <td>2</td>\n",
       "      <td>159</td>\n",
       "      <td>3</td>\n",
       "      <td>0</td>\n",
       "      <td>1</td>\n",
       "      <td>0</td>\n",
       "      <td>sales</td>\n",
       "      <td>low</td>\n",
       "    </tr>\n",
       "  </tbody>\n",
       "</table>\n",
       "</div>"
      ],
      "text/plain": [
       "   satisfaction_level  last_evaluation  number_project  average_montly_hours  time_spend_company  Work_accident  left  promotion_last_5years  sales  salary\n",
       "0                0.38             0.53               2                   157                   3              0     1                      0  sales     low\n",
       "1                0.80             0.86               5                   262                   6              0     1                      0  sales  medium\n",
       "2                0.11             0.88               7                   272                   4              0     1                      0  sales  medium\n",
       "3                0.72             0.87               5                   223                   5              0     1                      0  sales     low\n",
       "4                0.37             0.52               2                   159                   3              0     1                      0  sales     low"
      ]
     },
     "execution_count": 3,
     "metadata": {},
     "output_type": "execute_result"
    }
   ],
   "source": [
    "# Read in the data\n",
    "data = read_csv('hr_data.csv')\n",
    "# NOTE: jupyter notebooks have a built-in Pandas DataFrame viewer, so rather than `print df.head()`,\n",
    "#       just use df.head() and the output will be formatted for you. Unfortunately, it will only\n",
    "#       track the last command you enter, so trying to write out data.head() and data.info() in the same\n",
    "#       cell will only show the data.info() output\n",
    "data.head()\n",
    "# data.info()"
   ]
  },
  {
   "cell_type": "code",
   "execution_count": 4,
   "metadata": {
    "collapsed": false
   },
   "outputs": [
    {
     "name": "stdout",
     "output_type": "stream",
     "text": [
      "<class 'pandas.core.frame.DataFrame'>\n",
      "RangeIndex: 14999 entries, 0 to 14998\n",
      "Data columns (total 10 columns):\n",
      "satisfaction_level       14999 non-null float64\n",
      "last_evaluation          14999 non-null float64\n",
      "number_project           14999 non-null int64\n",
      "average_montly_hours     14999 non-null int64\n",
      "time_spend_company       14999 non-null int64\n",
      "Work_accident            14999 non-null int64\n",
      "left                     14999 non-null int64\n",
      "promotion_last_5years    14999 non-null int64\n",
      "sales                    14999 non-null object\n",
      "salary                   14999 non-null object\n",
      "dtypes: float64(2), int64(6), object(2)\n",
      "memory usage: 1.1+ MB\n"
     ]
    }
   ],
   "source": [
    "data.info()"
   ]
  },
  {
   "cell_type": "code",
   "execution_count": 5,
   "metadata": {
    "collapsed": false
   },
   "outputs": [
    {
     "data": {
      "text/html": [
       "<div>\n",
       "<table border=\"1\" class=\"dataframe\">\n",
       "  <thead>\n",
       "    <tr style=\"text-align: right;\">\n",
       "      <th></th>\n",
       "      <th>satisfaction_level</th>\n",
       "      <th>last_evaluation</th>\n",
       "      <th>number_project</th>\n",
       "      <th>average_montly_hours</th>\n",
       "      <th>time_spend_company</th>\n",
       "      <th>Work_accident</th>\n",
       "      <th>left</th>\n",
       "      <th>promotion_last_5years</th>\n",
       "    </tr>\n",
       "  </thead>\n",
       "  <tbody>\n",
       "    <tr>\n",
       "      <th>count</th>\n",
       "      <td>14999.000000</td>\n",
       "      <td>14999.000000</td>\n",
       "      <td>14999.000000</td>\n",
       "      <td>14999.000000</td>\n",
       "      <td>14999.000000</td>\n",
       "      <td>14999.000000</td>\n",
       "      <td>14999.000000</td>\n",
       "      <td>14999.000000</td>\n",
       "    </tr>\n",
       "    <tr>\n",
       "      <th>mean</th>\n",
       "      <td>0.612834</td>\n",
       "      <td>0.716102</td>\n",
       "      <td>3.803054</td>\n",
       "      <td>201.050337</td>\n",
       "      <td>3.498233</td>\n",
       "      <td>0.144610</td>\n",
       "      <td>0.238083</td>\n",
       "      <td>0.021268</td>\n",
       "    </tr>\n",
       "    <tr>\n",
       "      <th>std</th>\n",
       "      <td>0.248631</td>\n",
       "      <td>0.171169</td>\n",
       "      <td>1.232592</td>\n",
       "      <td>49.943099</td>\n",
       "      <td>1.460136</td>\n",
       "      <td>0.351719</td>\n",
       "      <td>0.425924</td>\n",
       "      <td>0.144281</td>\n",
       "    </tr>\n",
       "    <tr>\n",
       "      <th>min</th>\n",
       "      <td>0.090000</td>\n",
       "      <td>0.360000</td>\n",
       "      <td>2.000000</td>\n",
       "      <td>96.000000</td>\n",
       "      <td>2.000000</td>\n",
       "      <td>0.000000</td>\n",
       "      <td>0.000000</td>\n",
       "      <td>0.000000</td>\n",
       "    </tr>\n",
       "    <tr>\n",
       "      <th>25%</th>\n",
       "      <td>0.440000</td>\n",
       "      <td>0.560000</td>\n",
       "      <td>3.000000</td>\n",
       "      <td>156.000000</td>\n",
       "      <td>3.000000</td>\n",
       "      <td>0.000000</td>\n",
       "      <td>0.000000</td>\n",
       "      <td>0.000000</td>\n",
       "    </tr>\n",
       "    <tr>\n",
       "      <th>50%</th>\n",
       "      <td>0.640000</td>\n",
       "      <td>0.720000</td>\n",
       "      <td>4.000000</td>\n",
       "      <td>200.000000</td>\n",
       "      <td>3.000000</td>\n",
       "      <td>0.000000</td>\n",
       "      <td>0.000000</td>\n",
       "      <td>0.000000</td>\n",
       "    </tr>\n",
       "    <tr>\n",
       "      <th>75%</th>\n",
       "      <td>0.820000</td>\n",
       "      <td>0.870000</td>\n",
       "      <td>5.000000</td>\n",
       "      <td>245.000000</td>\n",
       "      <td>4.000000</td>\n",
       "      <td>0.000000</td>\n",
       "      <td>0.000000</td>\n",
       "      <td>0.000000</td>\n",
       "    </tr>\n",
       "    <tr>\n",
       "      <th>max</th>\n",
       "      <td>1.000000</td>\n",
       "      <td>1.000000</td>\n",
       "      <td>7.000000</td>\n",
       "      <td>310.000000</td>\n",
       "      <td>10.000000</td>\n",
       "      <td>1.000000</td>\n",
       "      <td>1.000000</td>\n",
       "      <td>1.000000</td>\n",
       "    </tr>\n",
       "  </tbody>\n",
       "</table>\n",
       "</div>"
      ],
      "text/plain": [
       "       satisfaction_level  last_evaluation  number_project  average_montly_hours  time_spend_company  Work_accident          left  promotion_last_5years\n",
       "count        14999.000000     14999.000000    14999.000000          14999.000000        14999.000000   14999.000000  14999.000000           14999.000000\n",
       "mean             0.612834         0.716102        3.803054            201.050337            3.498233       0.144610      0.238083               0.021268\n",
       "std              0.248631         0.171169        1.232592             49.943099            1.460136       0.351719      0.425924               0.144281\n",
       "min              0.090000         0.360000        2.000000             96.000000            2.000000       0.000000      0.000000               0.000000\n",
       "25%              0.440000         0.560000        3.000000            156.000000            3.000000       0.000000      0.000000               0.000000\n",
       "50%              0.640000         0.720000        4.000000            200.000000            3.000000       0.000000      0.000000               0.000000\n",
       "75%              0.820000         0.870000        5.000000            245.000000            4.000000       0.000000      0.000000               0.000000\n",
       "max              1.000000         1.000000        7.000000            310.000000           10.000000       1.000000      1.000000               1.000000"
      ]
     },
     "execution_count": 5,
     "metadata": {},
     "output_type": "execute_result"
    }
   ],
   "source": [
    "data.describe()"
   ]
  },
  {
   "cell_type": "markdown",
   "metadata": {},
   "source": [
    "A couple of quick items to note:\n",
    "* No missing (null) values, as shown in data.info()\n",
    "* Some misspelled (or just poorly named) fields - `average_montly_hours`, `Work_accident`, etc\n",
    "* A couple of text fields: `sales`, `salary`  Will need to be mapped or excluded\n",
    "\n",
    "Off the bat we see we will want to clean some field names and map whatever text fields that we can before including them in the model. We also note that 15k observations, while providing a good opportunity to learn and to extract potentially valuable insights *for the company whose data it is*, this is not enough observations to build a model that will generalize well.\n",
    "\n",
    "#### Visualize ####\n",
    "\n",
    "Next we want to take a closer look at each feature. I have a couple of questions I often ask right away:\n",
    "\n",
    "* What kind of feature is this? i.e. Categorical or continuous?\n",
    "* What kind of distribution would fit this feature? i.e. Normal, uniform, etc\n",
    "* Are there any potential outliers? \n",
    "* Will I need to perform any transformations on this feature? Rescale, standardize, log-normalize, etc\n",
    "\n",
    "We're not interested in viewing all 15k values per feature. What we want to look at is the distribution (density) of the values. One common way to do this is to split the data into N (say, 10) bins, then count the number of points in each bin, and then plot a bar chart where the height of each bar is the number of points in that bin. See https://en.wikipedia.org/wiki/Histogram for details."
   ]
  },
  {
   "cell_type": "code",
   "execution_count": 6,
   "metadata": {
    "collapsed": false
   },
   "outputs": [
    {
     "data": {
      "text/plain": [
       "satisfaction_level       Axes(0.125,0.125;0.775x0.755)\n",
       "last_evaluation          Axes(0.125,0.125;0.775x0.755)\n",
       "number_project           Axes(0.125,0.125;0.775x0.755)\n",
       "average_montly_hours     Axes(0.125,0.125;0.775x0.755)\n",
       "time_spend_company       Axes(0.125,0.125;0.775x0.755)\n",
       "Work_accident            Axes(0.125,0.125;0.775x0.755)\n",
       "left                     Axes(0.125,0.125;0.775x0.755)\n",
       "promotion_last_5years    Axes(0.125,0.125;0.775x0.755)\n",
       "dtype: object"
      ]
     },
     "execution_count": 6,
     "metadata": {},
     "output_type": "execute_result"
    },
    {
     "data": {
      "image/png": "[encoded data removed]",
      "text/plain": [
       "<matplotlib.figure.Figure at 0x1169f18d0>"
      ]
     },
     "metadata": {},
     "output_type": "display_data"
    }
   ],
   "source": [
    "# While I could try to save time by plotting everything at once, that's often not a good idea\n",
    "# Even if the variables were rescaled, it becomes very difficult to tell them apart when they are\n",
    "# all plotted on top of each other\n",
    "# Also, because `sales` and `salary` are text fields, I can't plot them\n",
    "data.drop(['sales', 'salary'], axis=1).apply(lambda x: sns.distplot(x))"
   ]
  },
  {
   "cell_type": "code",
   "execution_count": 7,
   "metadata": {
    "collapsed": false
   },
   "outputs": [
    {
     "data": {
      "image/png": "[encoded data removed]",
      "text/plain": [
       "<matplotlib.figure.Figure at 0x116d42c10>"
      ]
     },
     "metadata": {},
     "output_type": "display_data"
    },
    {
     "data": {
      "image/png": "[encoded data removed]",
      "text/plain": [
       "<matplotlib.figure.Figure at 0x119e7e790>"
      ]
     },
     "metadata": {},
     "output_type": "display_data"
    },
    {
     "data": {
      "image/png": "[encoded data removed]",
      "text/plain": [
       "<matplotlib.figure.Figure at 0x11a125710>"
      ]
     },
     "metadata": {},
     "output_type": "display_data"
    },
    {
     "data": {
      "image/png": "[encoded data removed]",
      "text/plain": [
       "<matplotlib.figure.Figure at 0x11a230510>"
      ]
     },
     "metadata": {},
     "output_type": "display_data"
    },
    {
     "data": {
      "image/png": "[encoded data removed]",
      "text/plain": [
       "<matplotlib.figure.Figure at 0x11a357d90>"
      ]
     },
     "metadata": {},
     "output_type": "display_data"
    },
    {
     "data": {
      "image/png": "[encoded data removed]",
      "text/plain": [
       "<matplotlib.figure.Figure at 0x11a481a90>"
      ]
     },
     "metadata": {},
     "output_type": "display_data"
    },
    {
     "data": {
      "image/png": "[encoded data removed]",
      "text/plain": [
       "<matplotlib.figure.Figure at 0x11a622d10>"
      ]
     },
     "metadata": {},
     "output_type": "display_data"
    },
    {
     "data": {
      "image/png": "[encoded data removed]",
      "text/plain": [
       "<matplotlib.figure.Figure at 0x11a7b8dd0>"
      ]
     },
     "metadata": {},
     "output_type": "display_data"
    }
   ],
   "source": [
    "# Instead, we plot each independently and scrutinize these plots\n",
    "for series_header, series_values in data.drop(['sales', 'salary'], axis=1).iteritems():\n",
    "    plt.figure()\n",
    "    sns.distplot(s, label=i, hist=True, kde=False)\n",
    "    # plt.legend()"
   ]
  },
  {
   "cell_type": "markdown",
   "metadata": {},
   "source": [
    "**General Notes**\n",
    "\n",
    "`satisfaction_level` has a buildup around 0. It seems uncharacteristic, given the shape of the feature, and I wonder if may be some sort of artifact of the survey. `average_monthly_hours` looks like it is a smoothing of two groups (e.g. bimodal). We may want to dig into that later and see if we can break out those groups. I also find it a bit strange that both `number_project` and `time_spend_company` have minimums at 2. `time_spend_company` is likely due to survey design, but I wonder if `number_project` speaks to how the company operates (everybody must have at least 2 projects at any time?).\n",
    "\n",
    "**Feature notes**\n",
    "\n",
    "Categorical:\n",
    "  * promotion_last_5years (binary)\n",
    "  * left (binary)\n",
    "  * Work_accident (binary)\n",
    "\n",
    "Continuous:\n",
    "  * time_spend_company (# years | [2, 10] | beta?)\n",
    "  * average_montly_hours (# hours/month | [~100, ~300] | bimodal)\n",
    "  * number_project (# | [2, 7] | ~normal or beta?)\n",
    "  * last_evaluation (rating of employee | [0,1] | ~uniform?)\n",
    "  * satisfaction_level ([0,1] | ~uniform?)\n",
    "  \n",
    "We excluded `sales` and `salary` from the plots, so let's try to dig into them a different way..."
   ]
  },
  {
   "cell_type": "code",
   "execution_count": 8,
   "metadata": {
    "collapsed": false
   },
   "outputs": [
    {
     "name": "stdout",
     "output_type": "stream",
     "text": [
      "sales          4140\n",
      "technical      2720\n",
      "support        2229\n",
      "IT             1227\n",
      "product_mng     902\n",
      "marketing       858\n",
      "RandD           787\n",
      "accounting      767\n",
      "hr              739\n",
      "management      630\n",
      "Name: sales, dtype: int64\n",
      "low       7316\n",
      "medium    6446\n",
      "high      1237\n",
      "Name: salary, dtype: int64\n"
     ]
    }
   ],
   "source": [
    "# 'sales' is the header for departments\n",
    "x = data['sales']\n",
    "# x.groupby(x).count()  # I suggest using the built-in functions as much as possible\n",
    "print x.value_counts()\n",
    "print data['salary'].value_counts()"
   ]
  },
  {
   "cell_type": "markdown",
   "metadata": {},
   "source": [
    "It's clear that `sales` is actually a listing of departments within the company. I find it interesting that the salary was masked into three broad bins. Maybe that has to do with privacy issues?\n",
    "\n",
    "`sales` is a typical categorical variable: \"IT\" is different from \"hr\", but \"IT\" is not any larger (or smaller) than \"hr\". This means that we can't map to a numerical representation. Instead, if we wanted to include `sales`, we would have to construct a series of dummy variables that assign each observation to the proper `sales` value. That's easy enough with Pandas (`get_dummies`), but I'm going to skip that for now and just drop the feature.\n",
    "\n",
    "`salary`, on the other hand, is an ordered set of values: low < medium < high. We can capture this relationship by mapping to an ordinal range (e.g. range(0, len(`salary`)) and assigning values properly. \n",
    "\n",
    "### Pre-processing ###\n",
    "\n",
    "Now that we have a good feel for what is in this data set, we can make a few decisions and clean up the data some.\n",
    "\n",
    "In particular, I know that I will want to standardize the continuous variables (in particular, I really want to rescale `average_montly_hours`). As a practice, I like to standardize all of my continuous variables before using them to build a model, but I don't think it would be strictly necessary for most of these features. I also note that I will need to map `salary` values, and that I will drop off `sales`\n",
    "\n",
    "I don't see any obvious outliers in any of the features."
   ]
  },
  {
   "cell_type": "code",
   "execution_count": 9,
   "metadata": {
    "collapsed": false
   },
   "outputs": [],
   "source": [
    "# Known transformations we want to apply to the data\n",
    "def hr_pre_process(dat, drop_cols=['salary', 'dept']):\n",
    "    # Quick name cleaning\n",
    "    dat = dat.rename(columns={'promotion_last_5years': 'promotion', \n",
    "                                'Work_accident': 'work_accident',\n",
    "                                'average_montly_hours': 'average_monthly_hours',\n",
    "                                'number_project': 'number_projects', \n",
    "                                'sales': 'dept'})\n",
    "    \n",
    "    salary_dict = {'low': 0, 'medium': 1, 'high': 2}\n",
    "\n",
    "    dat['salary_map'] = dat['salary'].map(salary_dict)\n",
    "\n",
    "    for col in drop_cols:\n",
    "        dat.drop(col, axis=1, inplace=True)\n",
    "\n",
    "    return dat"
   ]
  },
  {
   "cell_type": "markdown",
   "metadata": {},
   "source": [
    "** NOTE ** This isn't the right place to perform feature scaling, but as I am defining the functions in this file, and that needs to be done ahead of time, I will include a quick discussion here. None of this will actually be applied to the data until further on.\n",
    "\n",
    "### Feature Scaling ###\n",
    "\n",
    "See [feature_scaling](https://en.wikipedia.org/wiki/Feature_scaling)\n",
    "\n",
    "If we want to use a machine learning algorithm that depends on the magnitude of the inputs, for instance calculating distances of points to cluster means as in [k-means](https://en.wikipedia.org/wiki/K-means_clustering), we will need to standardize those features before training the algorithm or we risk allowing features with larger ranges to dictate the learning of the model. Most clustering algorithms (as a subset of classifiers) are good examples of this.\n",
    "\n",
    "On the other hand, most regression models fit higher-order moments of the data, and are therefore less susceptible to this. However, in many cases, to solve linear equations, the pseudo-inverse of the input matrix is needed, and it can become very difficult to calculate this if the range of the features is not normalized. I argue that it's better safe than sorry, and I standardize (or, at least, rescale) by default. \n",
    "\n",
    "Of course, running a standardization on any feature has a serious implications: the feature now exists in a different, parameterized space, as defined by whatever parameters are used to scale (e.g. mean and variance). This means that these parameters must be tracked carefully if we want to recover the original values and/or if we want to properly project the validation data into the parameterized space (which, presumably, we do)\n",
    "\n",
    "#### Standardization ####\n",
    "\n",
    "See [standard_score](https://en.wikipedia.org/wiki/Standard_score)\n",
    "\n",
    "Standardization is the process of converting all values to their z-scores, which is the distance, in units of standard deviation, of each point to the population mean. It allows for direct comparison of the distributions of variables."
   ]
  },
  {
   "cell_type": "code",
   "execution_count": 10,
   "metadata": {
    "collapsed": false
   },
   "outputs": [],
   "source": [
    "# --------------- Feature Scaling -----------\n",
    "# For expository purposes, I am leaving everything explicitly defined in this file.\n",
    "# These functions should moved into a general purpose utility file, then imported for use here\n",
    "\n",
    "# The s that will be passed through is list type, array, or series\n",
    "\n",
    "def calc_mean(s):\n",
    "    return sum(s)/float(len(s))\n",
    "\n",
    "# variance (spread of points in population) = sum of ((x - mean of x)^2) / count of x\n",
    "def calc_var(s):\n",
    "    mean_s = calc_mean(s)\n",
    "    return sum((s-mean_s)**2)/float(len(s))\n",
    "\n",
    "def rescale(s):\n",
    "    return (s-min(s))/float(max(s) - min(s))\n",
    "\n",
    "# will standardize two different data sets - first, training data and later, validation data. \n",
    "# only way is to use the trained parameters you calculated prior.\n",
    "def standardize(s, mean_s=None, var_s=None):\n",
    "    if mean_s is None:\n",
    "        mean_s = calc_mean(s)\n",
    "\n",
    "    if var_s is None:\n",
    "        var_s = calc_var(s)\n",
    "        \n",
    "    # (s-mean_s) centers the mean on zero. It has an arbitrary spread. \n",
    "    # you want to make the spread the unit of standard deviation. AKA take sq root of variance.\n",
    "    s_ = (s-mean_s)/sqrt(var_s)\n",
    "    return s_, mean_s, var_s\n",
    "\n",
    "# need to figure out a better name for this\n",
    "def build_standardize(df, categoricals, params=None):\n",
    "    # Don't normalize categorical variables\n",
    "    # Pull them out, hold them aside before processing\n",
    "    df_hold = df[categoricals]\n",
    "    df = df.drop(categoricals, axis=1)\n",
    "\n",
    "    if params is None:\n",
    "        params = {}\n",
    "        df_norm = DataFrame(columns=df.columns)\n",
    "        # Iterate across columns\n",
    "        for lab, col in df.iteritems():\n",
    "            col_, col_mean, col_var = standardize(col)\n",
    "            params[lab] = {'mean': col_mean, 'var': col_var}\n",
    "            df_norm[lab] = col_\n",
    "\n",
    "    else:\n",
    "        df_norm = DataFrame(columns=df.columns)\n",
    "        # Iterate across columns\n",
    "        for lab, col in df.iteritems():\n",
    "            col_, col_mean, col_var = standardize(col, params[lab]['mean'], params[lab]['var'])\n",
    "            df_norm[lab] = col_\n",
    "\n",
    "    df_norm = df_norm.join(df_hold)\n",
    "    return df_norm, params"
   ]
  },
  {
   "cell_type": "code",
   "execution_count": 11,
   "metadata": {
    "collapsed": false
   },
   "outputs": [
    {
     "name": "stdout",
     "output_type": "stream",
     "text": [
      "non-standardized average_monthly_hours s.d.: 1.00003333722\n",
      "standardized average_monthly_hours s.d.: 1.00003333722\n"
     ]
    }
   ],
   "source": [
    "# What did standardization do?\n",
    "dat, _ = build_standardize(hr_pre_process(data), ['salary_map', 'promotion', 'left', 'work_accident'])\n",
    "# non-standardized (std = standard deviation)\n",
    "print 'non-standardized average_monthly_hours s.d.: {}'.format(dat['average_monthly_hours'].std())\n",
    "# standardized\n",
    "print 'standardized average_monthly_hours s.d.: {}'.format(dat['average_monthly_hours'].std())"
   ]
  },
  {
   "cell_type": "markdown",
   "metadata": {},
   "source": [
    "### Modeling ###\n",
    "\n",
    "See [mathematical_model](https://en.wikipedia.org/wiki/Mathematical_model)\n",
    "\n",
    "Modeling a phenomenon involves finding the relationship between an input variable (or a series of variables), and a target output variable. A full discussion of different types of models is beyond the scope of this notebook, but [this](https://en.wikipedia.org/wiki/Machine_learning#Types_of_problems_and_tasks) is a good place to start.\n",
    "\n",
    "To decide on a model, I ask myself a series of questions:\n",
    "\n",
    "* What am I going to predict? What is the distribution of my output variable: continuous, categorical, or binary?\n",
    "\n",
    "The answer dictates whether we want to consider regressors (continuous) or classifiers (categorical, binary). In this case, we want to predict `left`, which is binary.\n",
    "\n",
    "* What are the distributions of my input variables?\n",
    "\n",
    "I find that linear/non-linear regressors work best with continuous input variables, where they can fit the covariance of the output with the inputs - the categorical/binary variables amount to a series of constant offsets and aren't paricularly useful. Decision trees, on the other hand, are much better at handling categoricals.\n",
    "\n",
    "We have a mix of continuous and categorical input features.\n",
    "\n",
    "* What model should I use for this problem?\n",
    "\n",
    "A random forest classifier should work well here. \n",
    "\n",
    "#### Hyperparameters ####\n",
    "\n",
    "If we were going to put a model into production, we would want to work to optimize it. Most models have hyperparameters that can be tuned to try and improve performance. For a random forest classifier, we might want to increase the number of trees in the forest (`n_estimators`) or switch the `criterion` from gini to entropy. For all parameters of the scikit learn random forest, see the [docs](http://scikit-learn.org/stable/modules/generated/sklearn.ensemble.RandomForestClassifier.html). \n",
    "\n",
    "Looking at the plot of `left` above, I see that there is a roughly 4:1 ratio of False:True (e.g. 4/5 of people stayed). we will want to use this information to start the forest off on a better foot, so we'll make use of the `class_weight` hyperparameter.\n",
    "\n",
    "#### Cross Validation ####\n",
    "\n",
    "See [cross_validation]( https://en.wikipedia.org/wiki/Cross-validation_(statistics) )\n",
    "\n",
    "In order to judge the likely efficacy of my model, we will split our data into multiple pieces, then iterate across them and train/test on different splits of the data. This general process is called k-fold cross validation, where k is the number of pieces we split our data into. Common values of k are 5 and 10. I use a minimum of k=5, and depending on how much data I have, and whether or not I intend to put this model into production, I go up to 10 or even 15 folds. \n",
    "\n",
    "The average accuracy across all folds is then the expected accuracy of the model, and is the number I use to judge this model against other models (or sets of hyperparameters). It's important to note that this k-fold average accuracy measure is not my final accuracy measure for the model.\n",
    "\n",
    "As mentioned in **hyperparameters**, the target variable `left` is biased towards 0 (roughly 4:1). When running our k-folds, I have to be careful to preserve that relationship in the observations within each split. If we don't, we risk providing the model an incorrect split of the output, which it will then learn. This is called a **stratified** split. Luckily, scikit learn provides a way to do this easily ([stratified k fold](http://scikit-learn.org/stable/modules/generated/sklearn.model_selection.StratifiedKFold.html)). So, rather than build something from scratch, we will leverage this function.\n",
    "\n",
    "#### Validation Set ####\n",
    "\n",
    "If we want a measure of how well my model can be expected to perform on data *it has never seen* (and I do), we will split off a large piece of my data and hold that aside until the very end. This piece of data will be my **validation set**, and the performance of my model on this validation set is the true measure of how well we can expect my model to perform on novel data (i.e. how well it will generalize).\n",
    "\n",
    "#### Accuracy ####\n",
    "\n",
    "Calculating accuracy of a binary classifier is very straightforward: \n",
    "\n",
    "accuracy = sum(# correct classifications)/(# classifications)"
   ]
  },
  {
   "cell_type": "code",
   "execution_count": 12,
   "metadata": {
    "collapsed": false
   },
   "outputs": [
    {
     "name": "stdout",
     "output_type": "stream",
     "text": [
      "Average training accuracy: 98.8%\n"
     ]
    }
   ],
   "source": [
    "cat_cols = ['salary_map', 'promotion', 'left', 'work_accident'] # define for later use\n",
    "\n",
    "# shuffle to remove any bias in the order of the samples\n",
    "idx = array(data.index)\n",
    "shuffle(idx)\n",
    "dat = data.ix[idx].reset_index(drop=True)\n",
    "\n",
    "# f is fraction of samples to use as validation\n",
    "f = 0.25\n",
    "N = len(dat)\n",
    "# validation set\n",
    "dat_val = dat.iloc[:int(f*N), :].reset_index(drop=True)  # first 25% (f%)\n",
    "# training set\n",
    "dat = hr_pre_process(dat.iloc[int(f*N):, :].reset_index(drop=True))  # remaining data\n",
    "\n",
    "# Let sklearn find stratified splits for us\n",
    "# Shuffle is unnecessary here, since we shuffled above\n",
    "SKF = StratifiedKFold(n_splits=5, shuffle=False, random_state=0)\n",
    "k_splits = SKF.split(dat.drop('left', axis=1), dat['left'])\n",
    "\n",
    "# Per split, train model and use run_model to collect probabilities, predictions, and actual values\n",
    "# Push into dataframe on each loop for analysis after all folds\n",
    "accuracy = []\n",
    "for train_idx, test_idx in k_splits:\n",
    "\n",
    "    train = dat.iloc[train_idx, :]  # pull out training data\n",
    "    test = dat.iloc[test_idx, :]  # pull out testing data\n",
    "\n",
    "    # Apply feature scaling\n",
    "    train_, params = build_standardize(train, cat_cols)\n",
    "    test_, _ = build_standardize(test, cat_cols, params)\n",
    "\n",
    "    init_weights = train['left'].value_counts().to_dict()\n",
    "    \n",
    "    # training model step\n",
    "    tmp_model = RandomForestClassifier(class_weight=init_weights, random_state=0).fit(train_.drop('left', axis=1), train_['left'])\n",
    "\n",
    "    # run model (make predictions)\n",
    "    y = test_['left']\n",
    "    y_pred = tmp_model.predict(test_.drop('left', axis=1))\n",
    "\n",
    "    # Calculate accuracy = (# correct classifications)/(# inputs)\n",
    "    acc = sum(y==y_pred)/float(len(y))\n",
    "\n",
    "    accuracy.append(acc)\n",
    "\n",
    "acc_mean = sum(accuracy)/float(len(accuracy))\n",
    "print 'Average training accuracy: {}%'.format(round(acc_mean, 3)*100.)"
   ]
  },
  {
   "cell_type": "markdown",
   "metadata": {},
   "source": [
    "At this point, we have a decision to make: are we happy with the accuracy we're seeing, or should we go back and make some changes? Any hyperparameter tweaks or model comparisons should happen here. Only when we have chosen a model to move forward with, and we are happy with the results, should we move on to the next step. \n",
    "\n",
    "#### Judging Performance ####\n",
    "\n",
    "One obvious question to ask is: should we be happy with these results? \n",
    "\n",
    "98.8% seems pretty good, but what if it was only, say, 75%. Would that be good? We've developed this model in a vacuum (so far), so our reference points are limited. Because this data is sourced from Kaggle, it will be easy to compare our results with others to get a feel for what contitutes \"good\" performance here (see [kaggle_hr_analytics](https://www.kaggle.com/ludobenistant/hr-analytics))\n",
    "\n",
    "If we didn't have any external reference points, what could we do? I like to take two simple reference measurements\n",
    "\n",
    "* performance of a \"null\" predictor\n",
    "* average across multiple different types of models\n",
    "\n",
    "For now, we will disregard comparison across different types of models, and instead focus on the null predictor. What I mean by null predictor is a predictor that performs equal to random chance. In the case of a classifier with N *balanced* classes, the expected chance of guessing any given observation correct is `1/N`.\n",
    "\n",
    "I'm particularly interested in the null predictor as my baseline for performance - we don't need any outside information to determine the null predictor rate, and it serves as my threshold for any claim that the model actually **learned** something from the data. If I provided you a model that predicted correct binary classification at 50%, that would suggest that the model didn't learn anything, and it was therefore not useful.\n",
    "\n",
    "In this case of this data, our null predictor needs to be adjusted. We have two classes (`left`= True or False), but those classes are not represented evenly in our data. Instead, `left`=False dominates. Because of this, I adjust my null predictor to be biased and always predict whatever the dominant class is - in this case, `left`=False. If we do this, our performance would be:"
   ]
  },
  {
   "cell_type": "code",
   "execution_count": 13,
   "metadata": {
    "collapsed": false
   },
   "outputs": [
    {
     "name": "stdout",
     "output_type": "stream",
     "text": [
      "Expected performance of null predictor: 76.2%\n",
      "Percent improvement of model over null: 29.6%\n"
     ]
    }
   ],
   "source": [
    "null_pred = sum(dat['left']==False)/float(len(dat['left']))\n",
    "\n",
    "print 'Expected performance of null predictor: {}%'.format(round(null_pred, 3)*100.)\n",
    "print 'Percent improvement of model over null: {}%'.format(round(((acc_mean-null_pred)/null_pred), 3)*100.)"
   ]
  },
  {
   "cell_type": "markdown",
   "metadata": {},
   "source": [
    "So, had the model learned nothing, and just predicted that all employees would stay, we would see performance of 76.2%. Our model's expected accuracy is 98.8%; that's an improvement of 30% over the null. Based on this significant improvement over what is effectively chance for this data, I would be confident in reporting that this model has learned something meaningful from the data. "
   ]
  },
  {
   "cell_type": "code",
   "execution_count": 14,
   "metadata": {
    "collapsed": false
   },
   "outputs": [
    {
     "name": "stdout",
     "output_type": "stream",
     "text": [
      "Expected generalization accuracy: 98.9%  (error: 1.1%)\n"
     ]
    }
   ],
   "source": [
    "# ------------ up to this point, I can tweak/change model and/or model parameters ----------------\n",
    "# ---------- !! no decisions can be based on the results of the validation set !! ----------------\n",
    "\n",
    "# re-parameterize with entire training set\n",
    "dat_, params = build_standardize(dat, cat_cols)\n",
    "dat_val_, _ = build_standardize(hr_pre_process(dat_val), cat_cols, params)\n",
    "\n",
    "init_weights = dat_['left'].value_counts().to_dict()\n",
    "\n",
    "# Implement model\n",
    "model = RandomForestClassifier(class_weight=init_weights, random_state=0).fit(dat_.drop('left', axis=1), dat_['left'])\n",
    "\n",
    "# run predictions on validation step\n",
    "y = dat_val_['left']\n",
    "y_pred = model.predict(dat_val_.drop('left', axis=1))\n",
    "\n",
    "gen_acc = sum(y==y_pred)/float(len(y))\n",
    "gen_err = 1. - gen_acc\n",
    "\n",
    "print 'Expected generalization accuracy: {a}%  (error: {e}%)'.format(\n",
    "    a=round(gen_acc, 3)*100., e=round(gen_err, 3)*100.)"
   ]
  },
  {
   "cell_type": "markdown",
   "metadata": {},
   "source": [
    "#### Insights ####\n",
    "\n",
    "We started off by asking if we could determine which employees would leave, given their measurements on certain metrics. While that's useful in and of itself, we can also dig into the model to ask more particular questions, such as\n",
    "\n",
    "* Which features were most important?\n",
    "* What would it take to get those employees to stay?\n",
    "\n",
    "Let's start with the highest-level takeaways and drill down from there. "
   ]
  },
  {
   "cell_type": "code",
   "execution_count": 15,
   "metadata": {
    "collapsed": false,
    "scrolled": true
   },
   "outputs": [
    {
     "name": "stdout",
     "output_type": "stream",
     "text": [
      "Expected number of employees leaving: 878\n",
      "Expected fraction of employees leaving: 0.234195785543\n"
     ]
    }
   ],
   "source": [
    "# Join predictions back in\n",
    "d = hr_pre_process(dat_val, drop_cols=['salary'])\n",
    "d['pred'] = y_pred\n",
    "\n",
    "print 'Expected number of employees leaving: {}'.format(d['pred'].sum())\n",
    "print 'Expected fraction of employees leaving: {}'.format(d['pred'].sum()/float(len(d['pred'])))"
   ]
  },
  {
   "cell_type": "markdown",
   "metadata": {},
   "source": [
    "~23% of people leaving is roughly the rate we saw in the training data, so that is not a surprising outcome. As we have no basis for judging this number (i.e. is this number high, low, or expected?), we will refrain from doing so. We can look at which departments these people are coming from"
   ]
  },
  {
   "cell_type": "code",
   "execution_count": 20,
   "metadata": {
    "collapsed": false
   },
   "outputs": [
    {
     "data": {
      "text/plain": [
       "dept\n",
       "sales          261\n",
       "technical      166\n",
       "support        148\n",
       "IT              78\n",
       "hr              55\n",
       "product_mng     48\n",
       "accounting      46\n",
       "marketing       41\n",
       "RandD           20\n",
       "management      15\n",
       "Name: pred, dtype: int64"
      ]
     },
     "execution_count": 20,
     "metadata": {},
     "output_type": "execute_result"
    }
   ],
   "source": [
    "d.groupby('dept')['pred'].sum().sort_values(ascending=False)"
   ]
  },
  {
   "cell_type": "markdown",
   "metadata": {},
   "source": [
    "Interesting (or maybe not) that Sales is expect to see the most employees leave. \n",
    "\n",
    "At this point, we can try to dig into the model to see what it learned and what that can tell us. Because we used a random forest, this is a difficult exercise; random forests can rank features according to how much each feature impacted the result, but that won't tell you much about the causal links between the variables. Contrast that with, say, a linear regressor, which has weights almost directly related to the cross correlation between variables. Meaning, with a linear regressor, I can estimate how much impact on the output each input feature has, and I can try to use this to affect a different result."
   ]
  },
  {
   "cell_type": "code",
   "execution_count": 16,
   "metadata": {
    "collapsed": false
   },
   "outputs": [
    {
     "name": "stdout",
     "output_type": "stream",
     "text": [
      "Ordered list of features, according to random forest:\n",
      "satisfaction_level       0.385724\n",
      "average_monthly_hours    0.193279\n",
      "number_projects          0.158381\n",
      "time_spend_company       0.132176\n",
      "last_evaluation          0.106513\n",
      "salary_map               0.015875\n",
      "work_accident            0.007311\n",
      "promotion                0.000740\n",
      "Name: importance, dtype: float64\n"
     ]
    }
   ],
   "source": [
    "# feats = [(f, i) for i, f in zip(model.feature_importances_, dat_.drop('left', axis=1).columns)]\n",
    "feats = Series(data=model.feature_importances_, index=dat_.drop('left', axis=1).columns, name='importance')\n",
    "\n",
    "print 'Ordered list of features, according to random forest:\\n{}'.format(feats.sort_values(ascending=False))"
   ]
  },
  {
   "cell_type": "markdown",
   "metadata": {},
   "source": [
    "According to our model, `satisfaction_level` is the most important feature when determining when an employee will leave, whereas (perhaps surprisingly) whether or not the employee recieved a `promotion` is least important."
   ]
  }
 ],
 "metadata": {
  "anaconda-cloud": {},
  "kernelspec": {
   "display_name": "Python [hr_analytics]",
   "language": "python",
   "name": "Python [hr_analytics]"
  },
  "language_info": {
   "codemirror_mode": {
    "name": "ipython",
    "version": 2
   },
   "file_extension": ".py",
   "mimetype": "text/x-python",
   "name": "python",
   "nbconvert_exporter": "python",
   "pygments_lexer": "ipython2",
   "version": "2.7.13"
  }
 },
 "nbformat": 4,
 "nbformat_minor": 0
}
