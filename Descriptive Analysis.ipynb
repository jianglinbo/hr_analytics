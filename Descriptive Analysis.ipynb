{
 "cells": [
  {
   "cell_type": "code",
   "execution_count": 2,
   "metadata": {
    "collapsed": false
   },
   "outputs": [],
   "source": [
    "# Features (types of variables): \n",
    "\n",
    "# satisfaction_level (continuous)\n",
    "# last_evaluation (continuous)\n",
    "# number_project (continuous)\n",
    "# average_montly_hours (continuous)\n",
    "# time_spend_company (continuous)\n",
    "# Work_accident (binary) \n",
    "# promotion_last_5years (binary)\n",
    "# sales (= department, categorical)\n",
    "# salary (ordinal)\n",
    "# left (binary)\n",
    "\n",
    "\n",
    "\n",
    "# Questions\n",
    "\n",
    "# Overall\n",
    "# Which feature influences attrition the most and why?\n",
    "# How much does each feature impact attrition?\n",
    "# Are these leavers involuntary vs voluntary?\n",
    "\n",
    "# Satisfaction - since the Random Forest model indicated this feature has the highest impact on an employee's decision to leave...\n",
    "# Which department is most satisfied? Do they have the best retention? (They should)\n",
    "# Are employees with higher levels of satisfaction more likely to be higher performers?\n",
    "# Are employees with higher levels of satisfaction more likely to have been promoted recently?\n",
    "# Are employees with higher levels of satisfaction more likely to have more projects? \n",
    "# Are employees with higher levels of satisfaction more likely to have longer tenure? \n",
    "# Are employees with higher levels of satisfaction more likely to have higher salaries? \n",
    "# Are employees with higher levels of satisfaction less likely to have had more work accidents?\n",
    "# Are employees with higher levels of satisfaction more likely to work less? \n",
    "\n",
    "# Department\n",
    "# Which department has the highest attrition vs lowest attrition? \n",
    "# Which department is the most satisfied? \n",
    "# Does attrition by department align with the output predicted \n",
    "# by Kyle using the Random Forest Classifier\n",
    "# Do certain departments have more projects than others and why?\n",
    "\n",
    "# Performance\n",
    "# Are high performers (as measured by last evaluation) staying? (They should)\n",
    "# Are high performers more likely to have more projects? (They should)\n",
    "# Are high performers more likely to have higher salaries? (They should)\n",
    "# Are high performers more likely to spend more time at the company (They should...) \n",
    "\n",
    "# Promotion\n",
    "# Are those promoted in the last 5 years less likely to leave? (They should)\n",
    "# Are those promoted in the last 5 years more likely to be high performers? (They should)\n",
    "# Are those promoted in the last 5 years more likely to have high satisfaction levels? (They should) \n",
    "# Are those promoted in the last 5 years more likely to have higher salaries (They should)\n",
    "# Are those promoted in the last 5 years more likely to spend more time at the company? \n",
    "\n",
    "# Tenure\n",
    "# Does tenure impact leavers? (Predict employees with highest tenure had most leavers in absolute terms)\n",
    "# Does tenure impact satisfaction? Are employees with higher tenure most satisfied?\n",
    "# Does tenure impact time spent at company?\n",
    "\n",
    "# Num of projects\n",
    "# Does num of projects impact leavers?\n",
    "\n",
    "\n"
   ]
  },
  {
   "cell_type": "code",
   "execution_count": null,
   "metadata": {
    "collapsed": true
   },
   "outputs": [],
   "source": []
  }
 ],
 "metadata": {
  "anaconda-cloud": {},
  "kernelspec": {
   "display_name": "Python [hr_analytics]",
   "language": "python",
   "name": "Python [hr_analytics]"
  },
  "language_info": {
   "codemirror_mode": {
    "name": "ipython",
    "version": 2
   },
   "file_extension": ".py",
   "mimetype": "text/x-python",
   "name": "python",
   "nbconvert_exporter": "python",
   "pygments_lexer": "ipython2",
   "version": "2.7.13"
  }
 },
 "nbformat": 4,
 "nbformat_minor": 1
}
