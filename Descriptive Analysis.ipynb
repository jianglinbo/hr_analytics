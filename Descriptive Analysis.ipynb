{
 "cells": [
  {
   "cell_type": "code",
   "execution_count": null,
   "metadata": {
    "collapsed": true
   },
   "outputs": [],
   "source": [
    "# Features (types of variables): \n",
    "\n",
    "# satisfaction_level (continuous)\n",
    "# last_evaluation (continuous)\n",
    "# number_project (continuous)\n",
    "# average_montly_hours (continuous)\n",
    "# time_spend_company (continuous)\n",
    "# Work_accident (binary) \n",
    "# promotion_last_5years (binary)\n",
    "# sales (= department, categorical)\n",
    "# salary (ordinal)\n",
    "# left (binary)\n",
    "\n",
    "\n",
    "\n",
    "# Questions\n",
    "\n",
    "# Overall\n",
    "# Which feature influences attrition the most and why? We can tackle the feature. Can't answer the why w/data\n",
    "# How much does each feature impact attrition? random forest classifier and other models. \n",
    "# Are these leavers involuntary vs voluntary? No data.\n",
    "\n",
    "# Satisfaction - since the Random Forest model indicated this feature has the highest impact on an employee's decision to leave...\n",
    "# Which department is most satisfied? Do they have the best retention? (They should)\n",
    "# Are employees with higher levels of satisfaction more likely to be higher performers?\n",
    "# Are employees with higher levels of satisfaction more likely to have been promoted recently?\n",
    "# Are employees with higher levels of satisfaction more likely to have more projects? \n",
    "# Are employees with higher levels of satisfaction more likely to have longer tenure? \n",
    "# Are employees with higher levels of satisfaction more likely to have higher salaries? \n",
    "# Are employees with higher levels of satisfaction less likely to have had more work accidents?\n",
    "# Are employees with higher levels of satisfaction more likely to work less? \n",
    "\n",
    "# Department\n",
    "# Which department has the highest attrition vs lowest attrition? \n",
    "# Which department is the most satisfied? \n",
    "# Does attrition by department align with the output predicted \n",
    "# by Kyle using the Random Forest Classifier\n",
    "# Do certain departments have more projects than others and why?\n",
    "\n",
    "# Performance\n",
    "# Are high performers (as measured by last evaluation) staying? (They should)\n",
    "# Are high performers more likely to have more projects? (They should)\n",
    "# Are high performers more likely to have higher salaries? (They should)\n",
    "# Are high performers more likely to spend more time at the company (They should...) \n",
    "\n",
    "# Promotion\n",
    "# Are those promoted in the last 5 years less likely to leave? (They should)\n",
    "# Are those promoted in the last 5 years more likely to be high performers? (They should)\n",
    "# Are those promoted in the last 5 years more likely to have high satisfaction levels? (They should) \n",
    "# Are those promoted in the last 5 years more likely to have higher salaries (They should)\n",
    "# Are those promoted in the last 5 years more likely to spend more time at the company? \n",
    "\n",
    "# Tenure\n",
    "# Does tenure impact leavers? (Predict employees with highest tenure had most leavers in absolute terms)\n",
    "# Does tenure impact satisfaction? Are employees with higher tenure most satisfied?\n",
    "# Does tenure impact time spent at company?\n",
    "\n",
    "# Num of projects\n",
    "# Does num of projects impact leavers?\n",
    "\n",
    "\n"
   ]
  },
  {
   "cell_type": "markdown",
   "metadata": {
    "collapsed": true
   },
   "source": [
    "ctrl+/ to remove hash in code, then convert to markdown. \n",
    "space after asterisk to indicate it's a bullet as opposed to italicizing. double asterisk = bold.\n",
    "to differentiate prose and a list [of bullets] requires a line.\n",
    "\n",
    "Satisfaction - since the Random Forest model indicated this feature has the highest impact on an employee's decision to leave... \n",
    "\n",
    "* Which department is most satisfied? Do they have the best retention? (They should)\n",
    "* Are employees with higher levels of satisfaction more likely to be higher performers?\n",
    "* Are employees with higher levels of satisfaction more likely to have been promoted recently?\n",
    "* Are employees with higher levels of satisfaction more likely to have more projects? \n",
    "* Are employees with higher levels of satisfaction more likely to have longer tenure? \n",
    "* Are employees with higher levels of satisfaction more likely to have higher salaries? \n",
    "* Are employees with higher levels of satisfaction less likely to have had more work accidents?\n",
    "* Are employees with higher levels of satisfaction more likely to work less? "
   ]
  },
  {
   "cell_type": "code",
   "execution_count": 24,
   "metadata": {
    "collapsed": true
   },
   "outputs": [],
   "source": [
    "# control + enter to run\n",
    "\n",
    "import seaborn as sns\n",
    "import matplotlib.pyplot as plt\n",
    "%matplotlib inline\n",
    "from numpy import histogram \n",
    "\n",
    "from pandas import DataFrame, Series, read_csv, set_option"
   ]
  },
  {
   "cell_type": "code",
   "execution_count": 5,
   "metadata": {
    "collapsed": false
   },
   "outputs": [
    {
     "data": {
      "text/html": [
       "<div>\n",
       "<table border=\"1\" class=\"dataframe\">\n",
       "  <thead>\n",
       "    <tr style=\"text-align: right;\">\n",
       "      <th></th>\n",
       "      <th>satisfaction_level</th>\n",
       "      <th>last_evaluation</th>\n",
       "      <th>number_project</th>\n",
       "      <th>average_montly_hours</th>\n",
       "      <th>time_spend_company</th>\n",
       "      <th>Work_accident</th>\n",
       "      <th>left</th>\n",
       "      <th>promotion_last_5years</th>\n",
       "      <th>sales</th>\n",
       "      <th>salary</th>\n",
       "    </tr>\n",
       "  </thead>\n",
       "  <tbody>\n",
       "    <tr>\n",
       "      <th>0</th>\n",
       "      <td>0.38</td>\n",
       "      <td>0.53</td>\n",
       "      <td>2</td>\n",
       "      <td>157</td>\n",
       "      <td>3</td>\n",
       "      <td>0</td>\n",
       "      <td>1</td>\n",
       "      <td>0</td>\n",
       "      <td>sales</td>\n",
       "      <td>low</td>\n",
       "    </tr>\n",
       "    <tr>\n",
       "      <th>1</th>\n",
       "      <td>0.80</td>\n",
       "      <td>0.86</td>\n",
       "      <td>5</td>\n",
       "      <td>262</td>\n",
       "      <td>6</td>\n",
       "      <td>0</td>\n",
       "      <td>1</td>\n",
       "      <td>0</td>\n",
       "      <td>sales</td>\n",
       "      <td>medium</td>\n",
       "    </tr>\n",
       "    <tr>\n",
       "      <th>2</th>\n",
       "      <td>0.11</td>\n",
       "      <td>0.88</td>\n",
       "      <td>7</td>\n",
       "      <td>272</td>\n",
       "      <td>4</td>\n",
       "      <td>0</td>\n",
       "      <td>1</td>\n",
       "      <td>0</td>\n",
       "      <td>sales</td>\n",
       "      <td>medium</td>\n",
       "    </tr>\n",
       "    <tr>\n",
       "      <th>3</th>\n",
       "      <td>0.72</td>\n",
       "      <td>0.87</td>\n",
       "      <td>5</td>\n",
       "      <td>223</td>\n",
       "      <td>5</td>\n",
       "      <td>0</td>\n",
       "      <td>1</td>\n",
       "      <td>0</td>\n",
       "      <td>sales</td>\n",
       "      <td>low</td>\n",
       "    </tr>\n",
       "    <tr>\n",
       "      <th>4</th>\n",
       "      <td>0.37</td>\n",
       "      <td>0.52</td>\n",
       "      <td>2</td>\n",
       "      <td>159</td>\n",
       "      <td>3</td>\n",
       "      <td>0</td>\n",
       "      <td>1</td>\n",
       "      <td>0</td>\n",
       "      <td>sales</td>\n",
       "      <td>low</td>\n",
       "    </tr>\n",
       "  </tbody>\n",
       "</table>\n",
       "</div>"
      ],
      "text/plain": [
       "   satisfaction_level  last_evaluation  number_project  average_montly_hours  \\\n",
       "0                0.38             0.53               2                   157   \n",
       "1                0.80             0.86               5                   262   \n",
       "2                0.11             0.88               7                   272   \n",
       "3                0.72             0.87               5                   223   \n",
       "4                0.37             0.52               2                   159   \n",
       "\n",
       "   time_spend_company  Work_accident  left  promotion_last_5years  sales  \\\n",
       "0                   3              0     1                      0  sales   \n",
       "1                   6              0     1                      0  sales   \n",
       "2                   4              0     1                      0  sales   \n",
       "3                   5              0     1                      0  sales   \n",
       "4                   3              0     1                      0  sales   \n",
       "\n",
       "   salary  \n",
       "0     low  \n",
       "1  medium  \n",
       "2  medium  \n",
       "3     low  \n",
       "4     low  "
      ]
     },
     "execution_count": 5,
     "metadata": {},
     "output_type": "execute_result"
    }
   ],
   "source": [
    "# Read in data\n",
    "data = read_csv('hr_data.csv')\n",
    "data.head()"
   ]
  },
  {
   "cell_type": "code",
   "execution_count": 7,
   "metadata": {
    "collapsed": false,
    "scrolled": true
   },
   "outputs": [
    {
     "data": {
      "text/html": [
       "<div>\n",
       "<table border=\"1\" class=\"dataframe\">\n",
       "  <thead>\n",
       "    <tr style=\"text-align: right;\">\n",
       "      <th></th>\n",
       "      <th>satisfaction_level</th>\n",
       "      <th>last_evaluation</th>\n",
       "      <th>number_project</th>\n",
       "      <th>average_montly_hours</th>\n",
       "      <th>time_spend_company</th>\n",
       "      <th>Work_accident</th>\n",
       "      <th>left</th>\n",
       "      <th>promotion_last_5years</th>\n",
       "    </tr>\n",
       "  </thead>\n",
       "  <tbody>\n",
       "    <tr>\n",
       "      <th>count</th>\n",
       "      <td>14999.000000</td>\n",
       "      <td>14999.000000</td>\n",
       "      <td>14999.000000</td>\n",
       "      <td>14999.000000</td>\n",
       "      <td>14999.000000</td>\n",
       "      <td>14999.000000</td>\n",
       "      <td>14999.000000</td>\n",
       "      <td>14999.000000</td>\n",
       "    </tr>\n",
       "    <tr>\n",
       "      <th>mean</th>\n",
       "      <td>0.612834</td>\n",
       "      <td>0.716102</td>\n",
       "      <td>3.803054</td>\n",
       "      <td>201.050337</td>\n",
       "      <td>3.498233</td>\n",
       "      <td>0.144610</td>\n",
       "      <td>0.238083</td>\n",
       "      <td>0.021268</td>\n",
       "    </tr>\n",
       "    <tr>\n",
       "      <th>std</th>\n",
       "      <td>0.248631</td>\n",
       "      <td>0.171169</td>\n",
       "      <td>1.232592</td>\n",
       "      <td>49.943099</td>\n",
       "      <td>1.460136</td>\n",
       "      <td>0.351719</td>\n",
       "      <td>0.425924</td>\n",
       "      <td>0.144281</td>\n",
       "    </tr>\n",
       "    <tr>\n",
       "      <th>min</th>\n",
       "      <td>0.090000</td>\n",
       "      <td>0.360000</td>\n",
       "      <td>2.000000</td>\n",
       "      <td>96.000000</td>\n",
       "      <td>2.000000</td>\n",
       "      <td>0.000000</td>\n",
       "      <td>0.000000</td>\n",
       "      <td>0.000000</td>\n",
       "    </tr>\n",
       "    <tr>\n",
       "      <th>25%</th>\n",
       "      <td>0.440000</td>\n",
       "      <td>0.560000</td>\n",
       "      <td>3.000000</td>\n",
       "      <td>156.000000</td>\n",
       "      <td>3.000000</td>\n",
       "      <td>0.000000</td>\n",
       "      <td>0.000000</td>\n",
       "      <td>0.000000</td>\n",
       "    </tr>\n",
       "    <tr>\n",
       "      <th>50%</th>\n",
       "      <td>0.640000</td>\n",
       "      <td>0.720000</td>\n",
       "      <td>4.000000</td>\n",
       "      <td>200.000000</td>\n",
       "      <td>3.000000</td>\n",
       "      <td>0.000000</td>\n",
       "      <td>0.000000</td>\n",
       "      <td>0.000000</td>\n",
       "    </tr>\n",
       "    <tr>\n",
       "      <th>75%</th>\n",
       "      <td>0.820000</td>\n",
       "      <td>0.870000</td>\n",
       "      <td>5.000000</td>\n",
       "      <td>245.000000</td>\n",
       "      <td>4.000000</td>\n",
       "      <td>0.000000</td>\n",
       "      <td>0.000000</td>\n",
       "      <td>0.000000</td>\n",
       "    </tr>\n",
       "    <tr>\n",
       "      <th>max</th>\n",
       "      <td>1.000000</td>\n",
       "      <td>1.000000</td>\n",
       "      <td>7.000000</td>\n",
       "      <td>310.000000</td>\n",
       "      <td>10.000000</td>\n",
       "      <td>1.000000</td>\n",
       "      <td>1.000000</td>\n",
       "      <td>1.000000</td>\n",
       "    </tr>\n",
       "  </tbody>\n",
       "</table>\n",
       "</div>"
      ],
      "text/plain": [
       "       satisfaction_level  last_evaluation  number_project  \\\n",
       "count        14999.000000     14999.000000    14999.000000   \n",
       "mean             0.612834         0.716102        3.803054   \n",
       "std              0.248631         0.171169        1.232592   \n",
       "min              0.090000         0.360000        2.000000   \n",
       "25%              0.440000         0.560000        3.000000   \n",
       "50%              0.640000         0.720000        4.000000   \n",
       "75%              0.820000         0.870000        5.000000   \n",
       "max              1.000000         1.000000        7.000000   \n",
       "\n",
       "       average_montly_hours  time_spend_company  Work_accident          left  \\\n",
       "count          14999.000000        14999.000000   14999.000000  14999.000000   \n",
       "mean             201.050337            3.498233       0.144610      0.238083   \n",
       "std               49.943099            1.460136       0.351719      0.425924   \n",
       "min               96.000000            2.000000       0.000000      0.000000   \n",
       "25%              156.000000            3.000000       0.000000      0.000000   \n",
       "50%              200.000000            3.000000       0.000000      0.000000   \n",
       "75%              245.000000            4.000000       0.000000      0.000000   \n",
       "max              310.000000           10.000000       1.000000      1.000000   \n",
       "\n",
       "       promotion_last_5years  \n",
       "count           14999.000000  \n",
       "mean                0.021268  \n",
       "std                 0.144281  \n",
       "min                 0.000000  \n",
       "25%                 0.000000  \n",
       "50%                 0.000000  \n",
       "75%                 0.000000  \n",
       "max                 1.000000  "
      ]
     },
     "execution_count": 7,
     "metadata": {},
     "output_type": "execute_result"
    }
   ],
   "source": [
    "data.describe()"
   ]
  },
  {
   "cell_type": "code",
   "execution_count": 9,
   "metadata": {
    "collapsed": false
   },
   "outputs": [
    {
     "data": {
      "text/plain": [
       "<matplotlib.axes._subplots.AxesSubplot at 0x111a67c10>"
      ]
     },
     "execution_count": 9,
     "metadata": {},
     "output_type": "execute_result"
    },
    {
     "data": {
      "image/png": "[encoded data removed]",
      "text/plain": [
       "<matplotlib.figure.Figure at 0x111a828d0>"
      ]
     },
     "metadata": {},
     "output_type": "display_data"
    }
   ],
   "source": [
    "sns.distplot(data['satisfaction_level'], hist=True, kde=False) # kde=False removes the density curve"
   ]
  },
  {
   "cell_type": "markdown",
   "metadata": {},
   "source": [
    "note that for satisfaction level, there are no 0's. the min is 0.09. why is there that strange lower bound? next we want to checkout how satisfaction is distributed across deparatments. Should we take the average satisfaction? satisfaction distribution is not normal or uniform so average seems fine."
   ]
  },
  {
   "cell_type": "code",
   "execution_count": 13,
   "metadata": {
    "collapsed": false
   },
   "outputs": [
    {
     "data": {
      "text/plain": [
       "sales\n",
       "IT             0.618142\n",
       "RandD          0.619822\n",
       "accounting     0.582151\n",
       "hr             0.598809\n",
       "management     0.621349\n",
       "marketing      0.618601\n",
       "product_mng    0.619634\n",
       "sales          0.614447\n",
       "support        0.618300\n",
       "technical      0.607897\n",
       "Name: satisfaction_level, dtype: float64"
      ]
     },
     "execution_count": 13,
     "metadata": {},
     "output_type": "execute_result"
    }
   ],
   "source": [
    "# satisfaction by department\n",
    "\n",
    "# dept_satis_means = \n",
    "data.groupby('sales')['satisfaction_level'].mean()"
   ]
  },
  {
   "cell_type": "code",
   "execution_count": 21,
   "metadata": {
    "collapsed": false
   },
   "outputs": [
    {
     "data": {
      "text/plain": [
       "<matplotlib.legend.Legend at 0x116f93410>"
      ]
     },
     "execution_count": 21,
     "metadata": {},
     "output_type": "execute_result"
    },
    {
     "data": {
      "image/png": "[encoded data removed]",
      "text/plain": [
       "<matplotlib.figure.Figure at 0x11613ec10>"
      ]
     },
     "metadata": {},
     "output_type": "display_data"
    }
   ],
   "source": [
    "plt.figure(figsize=(8,8)) # w*h\n",
    "for series_header, series_values in data.groupby('sales')['satisfaction_level']: # iteritems not necessary b/c groupby is an iterable.\n",
    "    sns.distplot(series_values, label=series_header, hist=False)\n",
    "plt.legend()"
   ]
  },
  {
   "cell_type": "markdown",
   "metadata": {},
   "source": [
    "Note that management's satisfaction levels are higher in the middle ranges. This is a gaussian blending of the histogram. I could explicitly define the values of the curve (gaussian kernel) but without doing that seaborne automatically calculates it. we would expect that y-axes to max at 1 (100% of respondents per department. These are raw counts so there could be more respondents in management than in other departments that is forcing up the curve. this is pre-normalized. If I want to see the counts, go back to original data and histogram (e.g. kde=False)). \n",
    "\n",
    "I can also define the color map in advance so there is no overlap.\n",
    "\n",
    "All this graph tells me is that there aren't notable differences across departments; the shape of the curves are similar, therefore the density trends are similar. Therefore, any issues in satisfaction are systematic across the entire company. "
   ]
  },
  {
   "cell_type": "markdown",
   "metadata": {},
   "source": [
    "Histogramming: The numpy histogram\n",
    "A bin in a histogram is the starting and ending x-value of bar. \n",
    "when you pass in several different series of data into the function, \n",
    "each bin is calculated independently. satisfaction_level bins \n",
    "automatically match up b/c the domain is the same (0.09 - 1), however\n",
    "salary ranges, for ex, would not, across departments. \n"
   ]
  },
  {
   "cell_type": "code",
   "execution_count": 28,
   "metadata": {
    "collapsed": false
   },
   "outputs": [
    {
     "data": {
      "text/plain": [
       "sales\n",
       "IT              [122, 29, 38, 122, 112, 147, 162, 185, 164, 146]\n",
       "RandD                [62, 38, 28, 62, 81, 106, 97, 109, 116, 88]\n",
       "accounting             [77, 37, 41, 100, 76, 82, 80, 96, 99, 79]\n",
       "hr                     [62, 27, 25, 115, 73, 91, 72, 99, 89, 86]\n",
       "management             [45, 19, 18, 50, 73, 96, 84, 108, 83, 54]\n",
       "marketing          [68, 22, 28, 121, 87, 89, 105, 120, 113, 105]\n",
       "product_mng         [73, 21, 32, 108, 96, 110, 95, 129, 140, 98]\n",
       "sales          [364, 149, 111, 529, 405, 459, 464, 594, 538, ...\n",
       "support         [184, 76, 59, 271, 222, 249, 268, 341, 288, 271]\n",
       "technical       [278, 80, 97, 300, 246, 346, 341, 334, 368, 330]\n",
       "Name: satisfaction_level, dtype: object"
      ]
     },
     "execution_count": 28,
     "metadata": {},
     "output_type": "execute_result"
    }
   ],
   "source": [
    "# group by department. parsing by satisfication level. \n",
    "# normalize each department by dividing by # entries in department \n",
    "# then histogram https://docs.scipy.org/doc/numpy/reference/generated/numpy.histogram.html\n",
    "\n",
    "vals = data.groupby('sales')['satisfaction_level'].apply(lambda x: histogram(x)[0]) \n",
    "# if you don't specify [0], result is tuple (value_counts, edges of bins)\n",
    "vals \n",
    "# these show counts in each department's histogram"
   ]
  },
  {
   "cell_type": "code",
   "execution_count": 30,
   "metadata": {
    "collapsed": false
   },
   "outputs": [
    {
     "data": {
      "text/plain": [
       "sales\n",
       "IT             [0.09, 0.181, 0.272, 0.363, 0.454, 0.545, 0.63...\n",
       "RandD          [0.09, 0.181, 0.272, 0.363, 0.454, 0.545, 0.63...\n",
       "accounting     [0.09, 0.181, 0.272, 0.363, 0.454, 0.545, 0.63...\n",
       "hr             [0.09, 0.181, 0.272, 0.363, 0.454, 0.545, 0.63...\n",
       "management     [0.09, 0.181, 0.272, 0.363, 0.454, 0.545, 0.63...\n",
       "marketing      [0.09, 0.181, 0.272, 0.363, 0.454, 0.545, 0.63...\n",
       "product_mng    [0.09, 0.181, 0.272, 0.363, 0.454, 0.545, 0.63...\n",
       "sales          [0.09, 0.181, 0.272, 0.363, 0.454, 0.545, 0.63...\n",
       "support        [0.09, 0.181, 0.272, 0.363, 0.454, 0.545, 0.63...\n",
       "technical      [0.09, 0.181, 0.272, 0.363, 0.454, 0.545, 0.63...\n",
       "Name: satisfaction_level, dtype: object"
      ]
     },
     "execution_count": 30,
     "metadata": {},
     "output_type": "execute_result"
    }
   ],
   "source": [
    "bins = data.groupby('sales')['satisfaction_level'].apply(lambda x:histogram(x)[1])\n",
    "bins"
   ]
  },
  {
   "cell_type": "code",
   "execution_count": 33,
   "metadata": {
    "collapsed": false
   },
   "outputs": [
    {
     "data": {
      "text/plain": [
       "sales\n",
       "IT             1227\n",
       "RandD           787\n",
       "accounting      767\n",
       "hr              739\n",
       "management      630\n",
       "marketing       858\n",
       "product_mng     902\n",
       "sales          4140\n",
       "support        2229\n",
       "technical      2720\n",
       "Name: satisfaction_level, dtype: int64"
      ]
     },
     "execution_count": 33,
     "metadata": {},
     "output_type": "execute_result"
    }
   ],
   "source": [
    "counts = data.groupby('sales')['satisfaction_level'].count()\n",
    "counts"
   ]
  },
  {
   "cell_type": "code",
   "execution_count": 38,
   "metadata": {
    "collapsed": false
   },
   "outputs": [
    {
     "data": {
      "text/html": [
       "<div>\n",
       "<table border=\"1\" class=\"dataframe\">\n",
       "  <thead>\n",
       "    <tr style=\"text-align: right;\">\n",
       "      <th></th>\n",
       "      <th>IT</th>\n",
       "      <th>RandD</th>\n",
       "      <th>accounting</th>\n",
       "      <th>hr</th>\n",
       "      <th>management</th>\n",
       "      <th>marketing</th>\n",
       "      <th>product_mng</th>\n",
       "      <th>sales</th>\n",
       "      <th>support</th>\n",
       "      <th>technical</th>\n",
       "    </tr>\n",
       "  </thead>\n",
       "  <tbody>\n",
       "    <tr>\n",
       "      <th>0</th>\n",
       "      <td>0.099430</td>\n",
       "      <td>0.078780</td>\n",
       "      <td>0.100391</td>\n",
       "      <td>0.083897</td>\n",
       "      <td>0.071429</td>\n",
       "      <td>0.079254</td>\n",
       "      <td>0.080931</td>\n",
       "      <td>0.087923</td>\n",
       "      <td>0.082548</td>\n",
       "      <td>0.102206</td>\n",
       "    </tr>\n",
       "    <tr>\n",
       "      <th>1</th>\n",
       "      <td>0.023635</td>\n",
       "      <td>0.048285</td>\n",
       "      <td>0.048240</td>\n",
       "      <td>0.036536</td>\n",
       "      <td>0.030159</td>\n",
       "      <td>0.025641</td>\n",
       "      <td>0.023282</td>\n",
       "      <td>0.035990</td>\n",
       "      <td>0.034096</td>\n",
       "      <td>0.029412</td>\n",
       "    </tr>\n",
       "    <tr>\n",
       "      <th>2</th>\n",
       "      <td>0.030970</td>\n",
       "      <td>0.035578</td>\n",
       "      <td>0.053455</td>\n",
       "      <td>0.033829</td>\n",
       "      <td>0.028571</td>\n",
       "      <td>0.032634</td>\n",
       "      <td>0.035477</td>\n",
       "      <td>0.026812</td>\n",
       "      <td>0.026469</td>\n",
       "      <td>0.035662</td>\n",
       "    </tr>\n",
       "    <tr>\n",
       "      <th>3</th>\n",
       "      <td>0.099430</td>\n",
       "      <td>0.078780</td>\n",
       "      <td>0.130378</td>\n",
       "      <td>0.155616</td>\n",
       "      <td>0.079365</td>\n",
       "      <td>0.141026</td>\n",
       "      <td>0.119734</td>\n",
       "      <td>0.127778</td>\n",
       "      <td>0.121579</td>\n",
       "      <td>0.110294</td>\n",
       "    </tr>\n",
       "    <tr>\n",
       "      <th>4</th>\n",
       "      <td>0.091280</td>\n",
       "      <td>0.102922</td>\n",
       "      <td>0.099087</td>\n",
       "      <td>0.098782</td>\n",
       "      <td>0.115873</td>\n",
       "      <td>0.101399</td>\n",
       "      <td>0.106430</td>\n",
       "      <td>0.097826</td>\n",
       "      <td>0.099596</td>\n",
       "      <td>0.090441</td>\n",
       "    </tr>\n",
       "    <tr>\n",
       "      <th>5</th>\n",
       "      <td>0.119804</td>\n",
       "      <td>0.134689</td>\n",
       "      <td>0.106910</td>\n",
       "      <td>0.123139</td>\n",
       "      <td>0.152381</td>\n",
       "      <td>0.103730</td>\n",
       "      <td>0.121951</td>\n",
       "      <td>0.110870</td>\n",
       "      <td>0.111709</td>\n",
       "      <td>0.127206</td>\n",
       "    </tr>\n",
       "    <tr>\n",
       "      <th>6</th>\n",
       "      <td>0.132029</td>\n",
       "      <td>0.123253</td>\n",
       "      <td>0.104302</td>\n",
       "      <td>0.097429</td>\n",
       "      <td>0.133333</td>\n",
       "      <td>0.122378</td>\n",
       "      <td>0.105322</td>\n",
       "      <td>0.112077</td>\n",
       "      <td>0.120233</td>\n",
       "      <td>0.125368</td>\n",
       "    </tr>\n",
       "    <tr>\n",
       "      <th>7</th>\n",
       "      <td>0.150774</td>\n",
       "      <td>0.138501</td>\n",
       "      <td>0.125163</td>\n",
       "      <td>0.133965</td>\n",
       "      <td>0.171429</td>\n",
       "      <td>0.139860</td>\n",
       "      <td>0.143016</td>\n",
       "      <td>0.143478</td>\n",
       "      <td>0.152983</td>\n",
       "      <td>0.122794</td>\n",
       "    </tr>\n",
       "    <tr>\n",
       "      <th>8</th>\n",
       "      <td>0.133659</td>\n",
       "      <td>0.147395</td>\n",
       "      <td>0.129074</td>\n",
       "      <td>0.120433</td>\n",
       "      <td>0.131746</td>\n",
       "      <td>0.131702</td>\n",
       "      <td>0.155211</td>\n",
       "      <td>0.129952</td>\n",
       "      <td>0.129206</td>\n",
       "      <td>0.135294</td>\n",
       "    </tr>\n",
       "    <tr>\n",
       "      <th>9</th>\n",
       "      <td>0.118989</td>\n",
       "      <td>0.111817</td>\n",
       "      <td>0.102999</td>\n",
       "      <td>0.116373</td>\n",
       "      <td>0.085714</td>\n",
       "      <td>0.122378</td>\n",
       "      <td>0.108647</td>\n",
       "      <td>0.127295</td>\n",
       "      <td>0.121579</td>\n",
       "      <td>0.121324</td>\n",
       "    </tr>\n",
       "  </tbody>\n",
       "</table>\n",
       "</div>"
      ],
      "text/plain": [
       "         IT     RandD  accounting        hr  management  marketing  \\\n",
       "0  0.099430  0.078780    0.100391  0.083897    0.071429   0.079254   \n",
       "1  0.023635  0.048285    0.048240  0.036536    0.030159   0.025641   \n",
       "2  0.030970  0.035578    0.053455  0.033829    0.028571   0.032634   \n",
       "3  0.099430  0.078780    0.130378  0.155616    0.079365   0.141026   \n",
       "4  0.091280  0.102922    0.099087  0.098782    0.115873   0.101399   \n",
       "5  0.119804  0.134689    0.106910  0.123139    0.152381   0.103730   \n",
       "6  0.132029  0.123253    0.104302  0.097429    0.133333   0.122378   \n",
       "7  0.150774  0.138501    0.125163  0.133965    0.171429   0.139860   \n",
       "8  0.133659  0.147395    0.129074  0.120433    0.131746   0.131702   \n",
       "9  0.118989  0.111817    0.102999  0.116373    0.085714   0.122378   \n",
       "\n",
       "   product_mng     sales   support  technical  \n",
       "0     0.080931  0.087923  0.082548   0.102206  \n",
       "1     0.023282  0.035990  0.034096   0.029412  \n",
       "2     0.035477  0.026812  0.026469   0.035662  \n",
       "3     0.119734  0.127778  0.121579   0.110294  \n",
       "4     0.106430  0.097826  0.099596   0.090441  \n",
       "5     0.121951  0.110870  0.111709   0.127206  \n",
       "6     0.105322  0.112077  0.120233   0.125368  \n",
       "7     0.143016  0.143478  0.152983   0.122794  \n",
       "8     0.155211  0.129952  0.129206   0.135294  \n",
       "9     0.108647  0.127295  0.121579   0.121324  "
      ]
     },
     "execution_count": 38,
     "metadata": {},
     "output_type": "execute_result"
    }
   ],
   "source": [
    "# pull out counts. process each series by doing counts divided total count of each department\n",
    "\n",
    "out = {}\n",
    "for label, series in vals.iteritems():\n",
    "    out[label] = vals[label]/float(counts[label])\n",
    "\n",
    "normed_df = DataFrame(data=out) # it takes the dict keys as headers\n",
    "normed_df # each bin contains the normalized output for each department's satisfaction level at that bin "
   ]
  },
  {
   "cell_type": "code",
   "execution_count": 48,
   "metadata": {
    "collapsed": false
   },
   "outputs": [
    {
     "data": {
      "text/plain": [
       "<matplotlib.axes._subplots.AxesSubplot at 0x1167f6510>"
      ]
     },
     "execution_count": 48,
     "metadata": {},
     "output_type": "execute_result"
    },
    {
     "data": {
      "image/png": "[encoded data removed]",
      "text/plain": [
       "<matplotlib.figure.Figure at 0x1180bab90>"
      ]
     },
     "metadata": {},
     "output_type": "display_data"
    }
   ],
   "source": [
    "# two ways of proceeding: \n",
    "# 1: plot out normed_df. \n",
    "# 2: can compare the relative distance from each department to every other department IT = 0, \n",
    "# how positive/negative is each department's satisfaction level for every bin?\n",
    "\n",
    "# pulling out the left edges of each bin (eventually find the means of each set of bin edge)\n",
    "normed_df.index = bins[0][:-1]\n",
    "\n",
    "normed_df.plot(kind='bar', figsize=(20,8)) # built in df function for plotting. prob matplotlib. can also do lines, etc."
   ]
  },
  {
   "cell_type": "markdown",
   "metadata": {},
   "source": [
    "This is unexpected because I would expect more of a bimodal distribution. people usually love or hate their company. these responses are lukewarm. This raises the question of the response rate?\n",
    "\n",
    "Post-normalized, Management shows higher med-high levels of satisfaction than other departments do and Management shows lower levels of low satisfaction. However, interestingly, Management has lower levels of high satisfaction than other departments do.    \n"
   ]
  },
  {
   "cell_type": "code",
   "execution_count": null,
   "metadata": {
    "collapsed": true
   },
   "outputs": [],
   "source": [
    "# barplot the differences of sat relative to each department.\n",
    "normed_df.apply(lambda x: normed_df['IT'] - x) \n",
    "# x iterates across across each series. because apply iterates over every column if a df, as default"
   ]
  }
 ],
 "metadata": {
  "anaconda-cloud": {},
  "kernelspec": {
   "display_name": "Python [hr_analytics]",
   "language": "python",
   "name": "Python [hr_analytics]"
  },
  "language_info": {
   "codemirror_mode": {
    "name": "ipython",
    "version": 2
   },
   "file_extension": ".py",
   "mimetype": "text/x-python",
   "name": "python",
   "nbconvert_exporter": "python",
   "pygments_lexer": "ipython2",
   "version": "2.7.13"
  }
 },
 "nbformat": 4,
 "nbformat_minor": 1
}
